{
 "cells": [
  {
   "cell_type": "code",
   "execution_count": 1,
   "metadata": {},
   "outputs": [
    {
     "name": "stderr",
     "output_type": "stream",
     "text": [
      "Using TensorFlow backend.\n"
     ]
    }
   ],
   "source": [
    "import keras\n",
    "import numpy as np\n",
    "import pandas as pd\n",
    "from sklearn.model_selection import train_test_split\n",
    "from keras.preprocessing.image import ImageDataGenerator\n",
    "from keras.preprocessing import image\n",
    "from keras.models import Sequential, load_model\n",
    "from keras.layers import Dense, Dropout, Activation, Flatten\n",
    "from keras.layers import Conv2D, MaxPooling2D\n",
    "from keras.callbacks import EarlyStopping, ModelCheckpoint\n",
    "from keras.utils import np_utils\n",
    "import matplotlib.pyplot as plt\n",
    "import os\n",
    "import cv2\n",
    "from keras.models import Sequential\n",
    "from keras.layers import Dense\n",
    "from keras.models import load_model"
   ]
  },
  {
   "cell_type": "code",
   "execution_count": 3,
   "metadata": {},
   "outputs": [],
   "source": [
    "dict = {'CALsuburb': '9', 'PARoffice': '7','bedroom': '12','coast': '10',\n",
    "    'forest': '4','highway': '14','industrial': '2', 'insidecity':'3',\n",
    "    'kitchen': '0','livingroom': '5','mountain': '8','opencountry': '6',\n",
    "    'store': '11','street': '1','tallbuilding': '13'}"
   ]
  },
  {
   "cell_type": "code",
   "execution_count": 4,
   "metadata": {},
   "outputs": [
    {
     "name": "stdout",
     "output_type": "stream",
     "text": [
      "2988\n",
      "<class 'list'>\n",
      "1500\n"
     ]
    }
   ],
   "source": [
    "from os import listdir\n",
    "from os.path import isfile, isdir, join\n",
    "from os import walk\n",
    "mypath = \"/home/jovyan/where_am_i/train\"\n",
    "files = listdir(mypath)\n",
    "name_list = []\n",
    "pred_name_list = []\n",
    "dirs_list = []\n",
    "y_train = []\n",
    "pred_id = []\n",
    "batch_size =  50  #32or 64 or128\n",
    "num_classes = 15\n",
    "epochs = 100\n",
    "save_dir =  'saved_models'\n",
    "model_name = 'keras_cifar10_trained_model.h5'\n",
    "\n",
    "#load 目錄str\n",
    "for f in files:    #資料夾紀錄\n",
    "    fullpath = join(mypath, f)        \n",
    "    if isdir(fullpath):\n",
    "        dirs_list.append(f); \n",
    "for f in range(len(dirs_list)):#label,圖片路徑   \n",
    "    mypath = \"/home/jovyan/where_am_i/train/\"+dirs_list[f]\n",
    "    for i in os.listdir(mypath):\n",
    "        name_list.append(mypath+'/'+i);\n",
    "        y_train.append(dict[dirs_list[f]])    #label    \n",
    "\n",
    "print(len(name_list))\n",
    "print(type(y_train))\n",
    "\n",
    "for root, dirs, files in walk(\"/home/jovyan/where_am_i/testset/\"):\n",
    "    for f in files:\n",
    "        pred_name_list.append(\"/home/jovyan/where_am_i/testset/\"+f)\n",
    "        pred_id.append(f)\n",
    "del pred_id[1501] \n",
    "del pred_id[1500] \n",
    "print(len(pred_id))\n",
    "#print(y_train)"
   ]
  },
  {
   "cell_type": "code",
   "execution_count": 5,
   "metadata": {},
   "outputs": [
    {
     "name": "stdout",
     "output_type": "stream",
     "text": [
      "2988\n",
      "2988\n",
      "<class 'list'>\n",
      "2985\n",
      "2985\n",
      "1500\n"
     ]
    }
   ],
   "source": [
    "#讀圖train\n",
    "x_train = []\n",
    "x_pred  = []\n",
    "print(len(name_list))\n",
    "print(len(y_train))\n",
    "print(type(y_train))\n",
    "for i in range(len(name_list)):\n",
    "    if name_list[i].endswith('.jpg'):\n",
    "        img = cv2.imread(name_list[i])\n",
    "        img = cv2.resize(img, (80, 80)) \n",
    "        img = np.float32(img)\n",
    "        x_train.append(img)\n",
    "    else:\n",
    "        del y_train[i]\n",
    "#讀test\n",
    "for i in range(1500):\n",
    "    if pred_name_list[i].endswith('.jpg'):\n",
    "        img = cv2.imread(pred_name_list[i])\n",
    "        #rint(pred_name_list[i])\n",
    "       #print(i)\n",
    "        img = cv2.resize(img, (80, 80)) \n",
    "        img = np.float32(img)\n",
    "        x_pred.append(img)\n",
    "        #pred_id.append()\n",
    "        \n",
    "#print(x_train.shape)\n",
    "print(len(y_train))\n",
    "print(len(x_train))\n",
    "print(len(x_pred))\n",
    "#print(x_train[10])\n",
    "    #tx.append(img)\n",
    "#images = np.array(images)\n",
    "    #raise #強制停止"
   ]
  },
  {
   "cell_type": "code",
   "execution_count": 6,
   "metadata": {},
   "outputs": [
    {
     "name": "stdout",
     "output_type": "stream",
     "text": [
      "(2985, 80, 80, 3)\n",
      "(2985,)\n",
      "(1500, 80, 80, 3)\n"
     ]
    }
   ],
   "source": [
    "x_train = np.array(x_train)  # 模型只吃 numpy.array 型態的資料，所以先把 x_train 轉成 numpy.array  \n",
    "y_train = np.array(y_train)\n",
    "x_pred = np.array(x_pred)\n",
    "print(x_train.shape)\n",
    "print(y_train.shape)\n",
    "print(x_pred.shape)"
   ]
  },
  {
   "cell_type": "code",
   "execution_count": 7,
   "metadata": {},
   "outputs": [
    {
     "name": "stdout",
     "output_type": "stream",
     "text": [
      "x_train shape: (2388, 80, 80, 3)\n",
      "2388 train samples\n",
      "597 test samples\n"
     ]
    }
   ],
   "source": [
    "\n",
    "#Normalization\n",
    "#print(x_train)\n",
    "x_train = x_train.astype('float32')\n",
    "x_train /= 255.\n",
    "x_pred = x_pred.astype('float32')\n",
    "x_pred /= 255.\n",
    "\n",
    "# Train Data Split\n",
    "x_train, x_test, y_train, y_test = train_test_split(x_train, y_train, test_size=0.2)\n",
    "#將label做 one_hot encoding\n",
    "# Convert class vectors to binary class matrices.\n",
    "y_train = keras.utils.to_categorical(y_train, num_classes)\n",
    "y_test = keras.utils.to_categorical(y_test, num_classes)\n",
    "\n",
    "print('x_train shape:', x_train.shape)\n",
    "print(x_train.shape[0], 'train samples')\n",
    "print(x_test.shape[0], 'test samples')"
   ]
  },
  {
   "cell_type": "code",
   "execution_count": 8,
   "metadata": {},
   "outputs": [
    {
     "name": "stdout",
     "output_type": "stream",
     "text": [
      "_________________________________________________________________\n",
      "Layer (type)                 Output Shape              Param #   \n",
      "=================================================================\n",
      "conv2d_1 (Conv2D)            (None, 80, 80, 64)        1792      \n",
      "_________________________________________________________________\n",
      "activation_1 (Activation)    (None, 80, 80, 64)        0         \n",
      "_________________________________________________________________\n",
      "conv2d_2 (Conv2D)            (None, 78, 78, 128)       73856     \n",
      "_________________________________________________________________\n",
      "activation_2 (Activation)    (None, 78, 78, 128)       0         \n",
      "_________________________________________________________________\n",
      "max_pooling2d_1 (MaxPooling2 (None, 39, 39, 128)       0         \n",
      "_________________________________________________________________\n",
      "dropout_1 (Dropout)          (None, 39, 39, 128)       0         \n",
      "_________________________________________________________________\n",
      "conv2d_3 (Conv2D)            (None, 39, 39, 64)        73792     \n",
      "_________________________________________________________________\n",
      "activation_3 (Activation)    (None, 39, 39, 64)        0         \n",
      "_________________________________________________________________\n",
      "conv2d_4 (Conv2D)            (None, 37, 37, 64)        36928     \n",
      "_________________________________________________________________\n",
      "activation_4 (Activation)    (None, 37, 37, 64)        0         \n",
      "_________________________________________________________________\n",
      "max_pooling2d_2 (MaxPooling2 (None, 18, 18, 64)        0         \n",
      "_________________________________________________________________\n",
      "dropout_2 (Dropout)          (None, 18, 18, 64)        0         \n",
      "_________________________________________________________________\n",
      "flatten_1 (Flatten)          (None, 20736)             0         \n",
      "_________________________________________________________________\n",
      "dense_1 (Dense)              (None, 512)               10617344  \n",
      "_________________________________________________________________\n",
      "activation_5 (Activation)    (None, 512)               0         \n",
      "_________________________________________________________________\n",
      "dropout_3 (Dropout)          (None, 512)               0         \n",
      "_________________________________________________________________\n",
      "dense_2 (Dense)              (None, 15)                7695      \n",
      "_________________________________________________________________\n",
      "activation_6 (Activation)    (None, 15)                0         \n",
      "=================================================================\n",
      "Total params: 10,811,407\n",
      "Trainable params: 10,811,407\n",
      "Non-trainable params: 0\n",
      "_________________________________________________________________\n",
      "None\n"
     ]
    }
   ],
   "source": [
    "# build our CNN model\n",
    "model = Sequential()\n",
    "model.add(Conv2D(64, (3, 3), padding='same',\n",
    "                 input_shape=x_train.shape[1:]))\n",
    "model.add(Activation('relu'))\n",
    "model.add(Conv2D(128, (3, 3)))\n",
    "model.add(Activation('relu'))\n",
    "model.add(MaxPooling2D(pool_size=(2, 2)))\n",
    "model.add(Dropout(0.25))\n",
    "\n",
    "model.add(Conv2D(64, (3, 3), padding='same'))\n",
    "model.add(Activation('relu'))\n",
    "model.add(Conv2D(64, (3, 3)))\n",
    "model.add(Activation('relu'))\n",
    "model.add(MaxPooling2D(pool_size=(2, 2)))\n",
    "model.add(Dropout(0.25))\n",
    "\n",
    "model.add(Flatten())\n",
    "model.add(Dense(512))\n",
    "model.add(Activation('relu'))\n",
    "model.add(Dropout(0.5))\n",
    "model.add(Dense(num_classes))\n",
    "model.add(Activation('softmax'))\n",
    "\n",
    "print(model.summary())"
   ]
  },
  {
   "cell_type": "code",
   "execution_count": 9,
   "metadata": {},
   "outputs": [
    {
     "name": "stdout",
     "output_type": "stream",
     "text": [
      "Using real-time data augmentation.\n"
     ]
    }
   ],
   "source": [
    "# initiate Adam optimizer\n",
    "opt = keras.optimizers.Adam()#lr=0.0003,amsgrad=True\n",
    "\n",
    "# Let's train the model using Adam\n",
    "model.compile(loss='categorical_crossentropy',\n",
    "              optimizer=opt,\n",
    "              metrics=['accuracy'])\n",
    "\n",
    "\n",
    "print('Using real-time data augmentation.')\n"
   ]
  },
  {
   "cell_type": "code",
   "execution_count": 10,
   "metadata": {},
   "outputs": [
    {
     "name": "stdout",
     "output_type": "stream",
     "text": [
      "Using real-time data augmentation.\n"
     ]
    }
   ],
   "source": [
    "print('Using real-time data augmentation.')\n",
    "# This will do preprocessing and realtime data augmentation:\n",
    "datagen = ImageDataGenerator(\n",
    "    rotation_range=10,  # randomly rotate images in the range (degrees, 0 to 180)\n",
    "    width_shift_range=0.1,  # randomly shift images horizontally (fraction of total width)\n",
    "    height_shift_range=0.1,  # randomly shift images vertically (fraction of total height)\n",
    "    horizontal_flip=True,  # randomly flip images\n",
    "    vertical_flip=False # randomly flip images\n",
    "    )\n",
    "\n",
    "\n",
    "# Use ModelCheckpoint to save model and weights\n",
    "if not os.path.isdir(save_dir):\n",
    "    os.makedirs(save_dir)\n",
    "model_path = os.path.join(save_dir, model_name)\n",
    "checkpoint = ModelCheckpoint(model_path, monitor='val_loss', save_best_only=True, verbose=1)\n",
    "\n",
    "# earlystop\n",
    "earlystop = EarlyStopping(monitor='val_loss', patience=5, verbose=1)"
   ]
  },
  {
   "cell_type": "code",
   "execution_count": 11,
   "metadata": {},
   "outputs": [
    {
     "name": "stdout",
     "output_type": "stream",
     "text": [
      "Epoch 1/100\n",
      "46/48 [===========================>..] - ETA: 0s - loss: 2.6768 - acc: 0.1056\n",
      "Epoch 00001: val_loss improved from inf to 2.60876, saving model to saved_models/keras_cifar10_trained_model.h5\n",
      "48/48 [==============================] - 7s 135ms/step - loss: 2.6807 - acc: 0.1054 - val_loss: 2.6088 - val_acc: 0.1122\n",
      "Epoch 2/100\n",
      "46/48 [===========================>..] - ETA: 0s - loss: 2.5442 - acc: 0.1570\n",
      "Epoch 00002: val_loss improved from 2.60876 to 2.26014, saving model to saved_models/keras_cifar10_trained_model.h5\n",
      "48/48 [==============================] - 3s 72ms/step - loss: 2.5320 - acc: 0.1600 - val_loss: 2.2601 - val_acc: 0.2613\n",
      "Epoch 3/100\n",
      "47/48 [============================>.] - ETA: 0s - loss: 2.2912 - acc: 0.2409\n",
      "Epoch 00003: val_loss improved from 2.26014 to 2.09590, saving model to saved_models/keras_cifar10_trained_model.h5\n",
      "48/48 [==============================] - 3s 61ms/step - loss: 2.2926 - acc: 0.2388 - val_loss: 2.0959 - val_acc: 0.3149\n",
      "Epoch 4/100\n",
      "46/48 [===========================>..] - ETA: 0s - loss: 2.0754 - acc: 0.3250\n",
      "Epoch 00004: val_loss improved from 2.09590 to 1.78421, saving model to saved_models/keras_cifar10_trained_model.h5\n",
      "48/48 [==============================] - 9s 192ms/step - loss: 2.0813 - acc: 0.3240 - val_loss: 1.7842 - val_acc: 0.4355\n",
      "Epoch 5/100\n",
      "47/48 [============================>.] - ETA: 0s - loss: 1.8754 - acc: 0.3687\n",
      "Epoch 00005: val_loss improved from 1.78421 to 1.68864, saving model to saved_models/keras_cifar10_trained_model.h5\n",
      "48/48 [==============================] - 6s 118ms/step - loss: 1.8754 - acc: 0.3698 - val_loss: 1.6886 - val_acc: 0.4422\n",
      "Epoch 6/100\n",
      "47/48 [============================>.] - ETA: 0s - loss: 1.7319 - acc: 0.4111\n",
      "Epoch 00006: val_loss did not improve\n",
      "48/48 [==============================] - 3s 53ms/step - loss: 1.7407 - acc: 0.4084 - val_loss: 1.6912 - val_acc: 0.4154\n",
      "Epoch 7/100\n",
      "46/48 [===========================>..] - ETA: 0s - loss: 1.6032 - acc: 0.4593\n",
      "Epoch 00007: val_loss improved from 1.68864 to 1.35235, saving model to saved_models/keras_cifar10_trained_model.h5\n",
      "48/48 [==============================] - 4s 76ms/step - loss: 1.6011 - acc: 0.4610 - val_loss: 1.3524 - val_acc: 0.5360\n",
      "Epoch 8/100\n",
      "46/48 [===========================>..] - ETA: 0s - loss: 1.5602 - acc: 0.4774\n",
      "Epoch 00008: val_loss improved from 1.35235 to 1.29422, saving model to saved_models/keras_cifar10_trained_model.h5\n",
      "48/48 [==============================] - 4s 84ms/step - loss: 1.5575 - acc: 0.4798 - val_loss: 1.2942 - val_acc: 0.5528\n",
      "Epoch 9/100\n",
      "47/48 [============================>.] - ETA: 0s - loss: 1.4164 - acc: 0.5123\n",
      "Epoch 00009: val_loss improved from 1.29422 to 1.24945, saving model to saved_models/keras_cifar10_trained_model.h5\n",
      "48/48 [==============================] - 3s 66ms/step - loss: 1.4201 - acc: 0.5116 - val_loss: 1.2494 - val_acc: 0.5762\n",
      "Epoch 10/100\n",
      "46/48 [===========================>..] - ETA: 0s - loss: 1.3852 - acc: 0.5235\n",
      "Epoch 00010: val_loss improved from 1.24945 to 1.23196, saving model to saved_models/keras_cifar10_trained_model.h5\n",
      "48/48 [==============================] - 4s 78ms/step - loss: 1.3805 - acc: 0.5263 - val_loss: 1.2320 - val_acc: 0.5812\n",
      "Epoch 11/100\n",
      "47/48 [============================>.] - ETA: 0s - loss: 1.3289 - acc: 0.5493\n",
      "Epoch 00011: val_loss improved from 1.23196 to 1.17816, saving model to saved_models/keras_cifar10_trained_model.h5\n",
      "48/48 [==============================] - 3s 69ms/step - loss: 1.3282 - acc: 0.5483 - val_loss: 1.1782 - val_acc: 0.5879\n",
      "Epoch 12/100\n",
      "47/48 [============================>.] - ETA: 0s - loss: 1.2345 - acc: 0.5753\n",
      "Epoch 00012: val_loss improved from 1.17816 to 1.16994, saving model to saved_models/keras_cifar10_trained_model.h5\n",
      "48/48 [==============================] - 3s 69ms/step - loss: 1.2387 - acc: 0.5734 - val_loss: 1.1699 - val_acc: 0.5913\n",
      "Epoch 13/100\n",
      "46/48 [===========================>..] - ETA: 0s - loss: 1.2483 - acc: 0.5759\n",
      "Epoch 00013: val_loss improved from 1.16994 to 1.06589, saving model to saved_models/keras_cifar10_trained_model.h5\n",
      "48/48 [==============================] - 3s 61ms/step - loss: 1.2512 - acc: 0.5753 - val_loss: 1.0659 - val_acc: 0.6080\n",
      "Epoch 14/100\n",
      "46/48 [===========================>..] - ETA: 0s - loss: 1.1801 - acc: 0.5939\n",
      "Epoch 00014: val_loss improved from 1.06589 to 1.05242, saving model to saved_models/keras_cifar10_trained_model.h5\n",
      "48/48 [==============================] - 5s 112ms/step - loss: 1.1807 - acc: 0.5933 - val_loss: 1.0524 - val_acc: 0.6348\n",
      "Epoch 15/100\n",
      "46/48 [===========================>..] - ETA: 0s - loss: 1.1422 - acc: 0.6004\n",
      "Epoch 00015: val_loss improved from 1.05242 to 1.02203, saving model to saved_models/keras_cifar10_trained_model.h5\n",
      "48/48 [==============================] - 6s 133ms/step - loss: 1.1435 - acc: 0.5987 - val_loss: 1.0220 - val_acc: 0.6399\n",
      "Epoch 16/100\n",
      "47/48 [============================>.] - ETA: 0s - loss: 1.1204 - acc: 0.6069\n",
      "Epoch 00016: val_loss improved from 1.02203 to 1.00889, saving model to saved_models/keras_cifar10_trained_model.h5\n",
      "48/48 [==============================] - 3s 62ms/step - loss: 1.1169 - acc: 0.6101 - val_loss: 1.0089 - val_acc: 0.6583\n",
      "Epoch 17/100\n",
      "46/48 [===========================>..] - ETA: 0s - loss: 1.0562 - acc: 0.6336\n",
      "Epoch 00017: val_loss did not improve\n",
      "48/48 [==============================] - 3s 54ms/step - loss: 1.0506 - acc: 0.6355 - val_loss: 1.0160 - val_acc: 0.6499\n",
      "Epoch 18/100\n",
      "46/48 [===========================>..] - ETA: 0s - loss: 1.0579 - acc: 0.6441\n",
      "Epoch 00018: val_loss improved from 1.00889 to 0.97880, saving model to saved_models/keras_cifar10_trained_model.h5\n",
      "48/48 [==============================] - 3s 61ms/step - loss: 1.0556 - acc: 0.6452 - val_loss: 0.9788 - val_acc: 0.6700\n",
      "Epoch 19/100\n",
      "46/48 [===========================>..] - ETA: 0s - loss: 1.0260 - acc: 0.6433\n",
      "Epoch 00019: val_loss improved from 0.97880 to 0.96159, saving model to saved_models/keras_cifar10_trained_model.h5\n",
      "48/48 [==============================] - 3s 65ms/step - loss: 1.0288 - acc: 0.6415 - val_loss: 0.9616 - val_acc: 0.6650\n",
      "Epoch 20/100\n",
      "46/48 [===========================>..] - ETA: 0s - loss: 0.9981 - acc: 0.6478\n",
      "Epoch 00020: val_loss improved from 0.96159 to 0.92051, saving model to saved_models/keras_cifar10_trained_model.h5\n",
      "48/48 [==============================] - 5s 95ms/step - loss: 0.9909 - acc: 0.6516 - val_loss: 0.9205 - val_acc: 0.6901\n",
      "Epoch 21/100\n",
      "47/48 [============================>.] - ETA: 0s - loss: 0.9946 - acc: 0.6479\n",
      "Epoch 00021: val_loss improved from 0.92051 to 0.88151, saving model to saved_models/keras_cifar10_trained_model.h5\n",
      "48/48 [==============================] - 3s 62ms/step - loss: 0.9912 - acc: 0.6486 - val_loss: 0.8815 - val_acc: 0.7102\n",
      "Epoch 22/100\n",
      "47/48 [============================>.] - ETA: 0s - loss: 0.9783 - acc: 0.6548\n",
      "Epoch 00022: val_loss did not improve\n",
      "48/48 [==============================] - 3s 54ms/step - loss: 0.9777 - acc: 0.6558 - val_loss: 0.9891 - val_acc: 0.6683\n",
      "Epoch 23/100\n",
      "47/48 [============================>.] - ETA: 0s - loss: 0.9217 - acc: 0.6666\n",
      "Epoch 00023: val_loss did not improve\n",
      "48/48 [==============================] - 3s 55ms/step - loss: 0.9295 - acc: 0.6660 - val_loss: 0.9344 - val_acc: 0.6868\n",
      "Epoch 24/100\n",
      "46/48 [===========================>..] - ETA: 0s - loss: 0.9270 - acc: 0.6911\n",
      "Epoch 00024: val_loss improved from 0.88151 to 0.83962, saving model to saved_models/keras_cifar10_trained_model.h5\n",
      "48/48 [==============================] - 3s 69ms/step - loss: 0.9278 - acc: 0.6894 - val_loss: 0.8396 - val_acc: 0.7404\n",
      "Epoch 25/100\n",
      "47/48 [============================>.] - ETA: 0s - loss: 0.8844 - acc: 0.6885\n",
      "Epoch 00025: val_loss improved from 0.83962 to 0.83187, saving model to saved_models/keras_cifar10_trained_model.h5\n",
      "48/48 [==============================] - 7s 137ms/step - loss: 0.8885 - acc: 0.6858 - val_loss: 0.8319 - val_acc: 0.7320\n",
      "Epoch 26/100\n",
      "47/48 [============================>.] - ETA: 0s - loss: 0.9410 - acc: 0.6785\n",
      "Epoch 00026: val_loss did not improve\n",
      "48/48 [==============================] - 3s 55ms/step - loss: 0.9414 - acc: 0.6782 - val_loss: 0.9206 - val_acc: 0.7102\n",
      "Epoch 27/100\n",
      "47/48 [============================>.] - ETA: 0s - loss: 0.8805 - acc: 0.6935\n",
      "Epoch 00027: val_loss did not improve\n",
      "48/48 [==============================] - 3s 55ms/step - loss: 0.8790 - acc: 0.6945 - val_loss: 0.8895 - val_acc: 0.7203\n",
      "Epoch 28/100\n",
      "47/48 [============================>.] - ETA: 0s - loss: 0.8702 - acc: 0.6877\n",
      "Epoch 00028: val_loss did not improve\n",
      "48/48 [==============================] - 3s 54ms/step - loss: 0.8715 - acc: 0.6888 - val_loss: 0.9478 - val_acc: 0.6784\n",
      "Epoch 29/100\n",
      "47/48 [============================>.] - ETA: 0s - loss: 0.8324 - acc: 0.7060\n",
      "Epoch 00029: val_loss improved from 0.83187 to 0.79333, saving model to saved_models/keras_cifar10_trained_model.h5\n",
      "48/48 [==============================] - 3s 66ms/step - loss: 0.8354 - acc: 0.7059 - val_loss: 0.7933 - val_acc: 0.7320\n",
      "Epoch 30/100\n",
      "47/48 [============================>.] - ETA: 0s - loss: 0.8146 - acc: 0.7127\n",
      "Epoch 00030: val_loss did not improve\n",
      "48/48 [==============================] - 3s 55ms/step - loss: 0.8122 - acc: 0.7137 - val_loss: 0.8618 - val_acc: 0.7186\n",
      "Epoch 31/100\n",
      "47/48 [============================>.] - ETA: 0s - loss: 0.7980 - acc: 0.7252\n",
      "Epoch 00031: val_loss improved from 0.79333 to 0.78311, saving model to saved_models/keras_cifar10_trained_model.h5\n",
      "48/48 [==============================] - 7s 149ms/step - loss: 0.7921 - acc: 0.7280 - val_loss: 0.7831 - val_acc: 0.7471\n",
      "Epoch 32/100\n",
      "46/48 [===========================>..] - ETA: 0s - loss: 0.7686 - acc: 0.7327\n",
      "Epoch 00032: val_loss did not improve\n",
      "48/48 [==============================] - 3s 54ms/step - loss: 0.7753 - acc: 0.7301 - val_loss: 0.7945 - val_acc: 0.7404\n",
      "Epoch 33/100\n",
      "46/48 [===========================>..] - ETA: 0s - loss: 0.7783 - acc: 0.7295\n",
      "Epoch 00033: val_loss did not improve\n",
      "48/48 [==============================] - 3s 53ms/step - loss: 0.7767 - acc: 0.7316 - val_loss: 0.8026 - val_acc: 0.7471\n",
      "Epoch 34/100\n",
      "47/48 [============================>.] - ETA: 0s - loss: 0.7378 - acc: 0.7384\n",
      "Epoch 00034: val_loss improved from 0.78311 to 0.76976, saving model to saved_models/keras_cifar10_trained_model.h5\n",
      "48/48 [==============================] - 4s 80ms/step - loss: 0.7373 - acc: 0.7392 - val_loss: 0.7698 - val_acc: 0.7337\n",
      "Epoch 35/100\n",
      "47/48 [============================>.] - ETA: 0s - loss: 0.7501 - acc: 0.7311\n",
      "Epoch 00035: val_loss did not improve\n",
      "48/48 [==============================] - 3s 54ms/step - loss: 0.7486 - acc: 0.7317 - val_loss: 0.8252 - val_acc: 0.7320\n",
      "Epoch 36/100\n",
      "47/48 [============================>.] - ETA: 0s - loss: 0.7144 - acc: 0.7475\n",
      "Epoch 00036: val_loss did not improve\n",
      "48/48 [==============================] - 3s 54ms/step - loss: 0.7141 - acc: 0.7486 - val_loss: 0.8242 - val_acc: 0.7303\n",
      "Epoch 37/100\n",
      "47/48 [============================>.] - ETA: 0s - loss: 0.7517 - acc: 0.7478\n",
      "Epoch 00037: val_loss did not improve\n",
      "48/48 [==============================] - 3s 53ms/step - loss: 0.7498 - acc: 0.7481 - val_loss: 0.8389 - val_acc: 0.7119\n",
      "Epoch 38/100\n",
      "47/48 [============================>.] - ETA: 0s - loss: 0.7026 - acc: 0.7559\n",
      "Epoch 00038: val_loss did not improve\n",
      "48/48 [==============================] - 3s 53ms/step - loss: 0.7049 - acc: 0.7548 - val_loss: 0.8573 - val_acc: 0.7253\n",
      "Epoch 39/100\n",
      "46/48 [===========================>..] - ETA: 0s - loss: 0.7043 - acc: 0.7540\n",
      "Epoch 00039: val_loss did not improve\n",
      "48/48 [==============================] - 3s 53ms/step - loss: 0.7019 - acc: 0.7517 - val_loss: 0.8256 - val_acc: 0.7102\n",
      "Epoch 00039: early stopping\n"
     ]
    }
   ],
   "source": [
    "# Fit the model on the batches generated by datagen.flow().\n",
    "model_history = model.fit_generator(datagen.flow(x_train, y_train,\n",
    "                                 batch_size=batch_size),\n",
    "                    epochs=epochs,\n",
    "                    validation_data=(x_test, y_test),\n",
    "                    workers=4,\n",
    "                    callbacks=[earlystop,checkpoint])"
   ]
  },
  {
   "cell_type": "code",
   "execution_count": 12,
   "metadata": {},
   "outputs": [
    {
     "name": "stdout",
     "output_type": "stream",
     "text": [
      "Loading trained model\n"
     ]
    }
   ],
   "source": [
    "# loading our save model\n",
    "print(\"Loading trained model\")\n",
    "model = load_model(model_path)"
   ]
  },
  {
   "cell_type": "code",
   "execution_count": 13,
   "metadata": {},
   "outputs": [
    {
     "name": "stdout",
     "output_type": "stream",
     "text": [
      "597/597 [==============================] - 0s 681us/step\n",
      "Test loss: 0.76976111067\n",
      "Test accuracy: 0.733668342607\n"
     ]
    }
   ],
   "source": [
    "# Score trained model.\n",
    "scores = model.evaluate(x_test, y_test, verbose=1)\n",
    "print('Test loss:', scores[0])\n",
    "print('Test accuracy:', scores[1])"
   ]
  },
  {
   "cell_type": "code",
   "execution_count": 14,
   "metadata": {},
   "outputs": [
    {
     "name": "stdout",
     "output_type": "stream",
     "text": [
      "597/597 [==============================] - 0s 362us/step\n",
      "Test loss: 0.76976111067\n",
      "Test accuracy: 0.733668342607\n"
     ]
    },
    {
     "data": {
      "image/png": "[encoded data removed]",
      "text/plain": [
       "<Figure size 432x288 with 1 Axes>"
      ]
     },
     "metadata": {},
     "output_type": "display_data"
    }
   ],
   "source": [
    "training_loss = model_history.history['loss']\n",
    "val_loss = model_history.history['val_loss']\n",
    "scores = model.evaluate(x_test, y_test, verbose=1)\n",
    "print('Test loss:', scores[0])\n",
    "print('Test accuracy:', scores[1])\n",
    "\n",
    "plt.plot(training_loss, label=\"training_loss\")#觀察overftting\n",
    "plt.plot(val_loss, label=\"validation_loss\")#觀察overftting\n",
    "plt.xlabel(\"Epochs\")\n",
    "plt.ylabel(\"Loss\")\n",
    "plt.title(\"Learning Curve\")\n",
    "plt.legend(loc='best')\n",
    "plt.show()"
   ]
  },
  {
   "cell_type": "code",
   "execution_count": 15,
   "metadata": {},
   "outputs": [
    {
     "name": "stdout",
     "output_type": "stream",
     "text": [
      "[[[ 0.69803923  0.69803923  0.69803923]\n",
      "  [ 0.67843139  0.67843139  0.67843139]\n",
      "  [ 0.63137257  0.63137257  0.63137257]\n",
      "  ..., \n",
      "  [ 0.71764708  0.71764708  0.71764708]\n",
      "  [ 0.73725492  0.73725492  0.73725492]\n",
      "  [ 0.75686276  0.75686276  0.75686276]]\n",
      "\n",
      " [[ 0.6901961   0.6901961   0.6901961 ]\n",
      "  [ 0.6901961   0.6901961   0.6901961 ]\n",
      "  [ 0.70588237  0.70588237  0.70588237]\n",
      "  ..., \n",
      "  [ 0.73725492  0.73725492  0.73725492]\n",
      "  [ 0.75294119  0.75294119  0.75294119]\n",
      "  [ 0.7647059   0.7647059   0.7647059 ]]\n",
      "\n",
      " [[ 0.7019608   0.7019608   0.7019608 ]\n",
      "  [ 0.68627453  0.68627453  0.68627453]\n",
      "  [ 0.67843139  0.67843139  0.67843139]\n",
      "  ..., \n",
      "  [ 0.74509805  0.74509805  0.74509805]\n",
      "  [ 0.76078433  0.76078433  0.76078433]\n",
      "  [ 0.76862746  0.76862746  0.76862746]]\n",
      "\n",
      " ..., \n",
      " [[ 0.22352941  0.22352941  0.22352941]\n",
      "  [ 0.21176471  0.21176471  0.21176471]\n",
      "  [ 0.19215687  0.19215687  0.19215687]\n",
      "  ..., \n",
      "  [ 0.27450982  0.27450982  0.27450982]\n",
      "  [ 0.25882354  0.25882354  0.25882354]\n",
      "  [ 0.24313726  0.24313726  0.24313726]]\n",
      "\n",
      " [[ 0.17647059  0.17647059  0.17647059]\n",
      "  [ 0.23137255  0.23137255  0.23137255]\n",
      "  [ 0.29803923  0.29803923  0.29803923]\n",
      "  ..., \n",
      "  [ 0.26666668  0.26666668  0.26666668]\n",
      "  [ 0.27843139  0.27843139  0.27843139]\n",
      "  [ 0.3137255   0.3137255   0.3137255 ]]\n",
      "\n",
      " [[ 0.07058824  0.07058824  0.07058824]\n",
      "  [ 0.27843139  0.27843139  0.27843139]\n",
      "  [ 0.21568628  0.21568628  0.21568628]\n",
      "  ..., \n",
      "  [ 0.30980393  0.30980393  0.30980393]\n",
      "  [ 0.30980393  0.30980393  0.30980393]\n",
      "  [ 0.29019609  0.29019609  0.29019609]]]\n"
     ]
    }
   ],
   "source": [
    "print(x_pred[0])\n",
    "y_pred = model.predict_classes(x_pred)\n"
   ]
  },
  {
   "cell_type": "code",
   "execution_count": 16,
   "metadata": {},
   "outputs": [],
   "source": [
    "def exportCSV (idset, dataset):\n",
    "    df = pd.DataFrame({'id':idset,'class':dataset})\n",
    "    df.to_csv('prediction.csv', sep=',', encoding='utf-8',index=False);"
   ]
  },
  {
   "cell_type": "code",
   "execution_count": 17,
   "metadata": {},
   "outputs": [
    {
     "name": "stdout",
     "output_type": "stream",
     "text": [
      "1500\n",
      "[13 10  9 ...,  5  1  4]\n",
      "Generate prediction.csv Successfully!\n"
     ]
    }
   ],
   "source": [
    "exportCSV(pred_id, y_pred)\n",
    "print(\"Generate prediction.csv Successfully!\")"
   ]
  },
  {
   "cell_type": "code",
   "execution_count": null,
   "metadata": {},
   "outputs": [],
   "source": []
  },
  {
   "cell_type": "code",
   "execution_count": null,
   "metadata": {},
   "outputs": [],
   "source": []
  }
 ],
 "metadata": {
  "kernelspec": {
   "display_name": "Python 3",
   "language": "python",
   "name": "python3"
  },
  "language_info": {
   "codemirror_mode": {
    "name": "ipython",
    "version": 3
   },
   "file_extension": ".py",
   "mimetype": "text/x-python",
   "name": "python",
   "nbconvert_exporter": "python",
   "pygments_lexer": "ipython3",
   "version": "3.6.4"
  }
 },
 "nbformat": 4,
 "nbformat_minor": 2
}
