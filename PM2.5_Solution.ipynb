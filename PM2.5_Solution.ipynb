{
  "cells": [
    {
      "metadata": {
        "trusted": false
      },
      "cell_type": "code",
      "source": "#from https://www.kaggle.com/c/aia-tc-1-mid-term-exam-pm25-forecast",
      "execution_count": 1,
      "outputs": []
    },
    {
      "metadata": {
        "trusted": false
      },
      "cell_type": "code",
      "source": "#import some necessary librairies\nimport seaborn as sns\nimport numpy as np # linear algebra\nimport pandas as pd # data processing, CSV file I/O (e.g. pd.read_csv)\n%matplotlib inline\nimport matplotlib.pyplot as plt  # Matlab-style plotting\nimport seaborn as sns\ncolor = sns.color_palette()\nsns.set_style('darkgrid')\nimport warnings\ndef ignore_warn(*args, **kwargs):\n    pass\nwarnings.warn = ignore_warn #ignore annoying warning (from sklearn and seaborn)\n\n\nfrom scipy import stats\nfrom scipy.stats import norm, skew #for some statistics\n\n\npd.set_option('display.float_format', lambda x: '{:.3f}'.format(x)) #Limiting floats output to 3 decimal points\n\n\nfrom subprocess import check_output\nprint(check_output([\"ls\", \"input/\"]).decode(\"utf8\")) #check the files available in the directory",
      "execution_count": 2,
      "outputs": [
        {
          "name": "stdout",
          "output_type": "stream",
          "text": "submission.csv\ntest.csv\ntest_use.csv\ntrain.csv\n\n"
        }
      ]
    },
    {
      "metadata": {
        "trusted": false
      },
      "cell_type": "code",
      "source": "#Now let's import and put the train and test datasets in  pandas dataframe\n\ntrain_read = pd.read_csv('input/train.csv')\ntest_read = pd.read_csv('input/test.csv')",
      "execution_count": 3,
      "outputs": []
    },
    {
      "metadata": {
        "trusted": false
      },
      "cell_type": "code",
      "source": "train_read.head(5)",
      "execution_count": 4,
      "outputs": [
        {
          "data": {
            "text/html": "<div>\n<style scoped>\n    .dataframe tbody tr th:only-of-type {\n        vertical-align: middle;\n    }\n\n    .dataframe tbody tr th {\n        vertical-align: top;\n    }\n\n    .dataframe thead th {\n        text-align: right;\n    }\n</style>\n<table border=\"1\" class=\"dataframe\">\n  <thead>\n    <tr style=\"text-align: right;\">\n      <th></th>\n      <th>device_id</th>\n      <th>Date</th>\n      <th>Time</th>\n      <th>PM2.5</th>\n      <th>PM10</th>\n      <th>PM1</th>\n      <th>Temperature</th>\n      <th>Humidity</th>\n      <th>lat</th>\n      <th>lon</th>\n    </tr>\n  </thead>\n  <tbody>\n    <tr>\n      <th>0</th>\n      <td>28C2DDDD415C</td>\n      <td>2017-01-01</td>\n      <td>08:03:09</td>\n      <td>21.000</td>\n      <td>0.000</td>\n      <td>0.000</td>\n      <td>24.120</td>\n      <td>83.000</td>\n      <td>23.741</td>\n      <td>120.755</td>\n    </tr>\n    <tr>\n      <th>1</th>\n      <td>28C2DDDD415C</td>\n      <td>2017-01-01</td>\n      <td>08:03:09</td>\n      <td>21.000</td>\n      <td>0.000</td>\n      <td>0.000</td>\n      <td>24.120</td>\n      <td>83.000</td>\n      <td>23.741</td>\n      <td>120.755</td>\n    </tr>\n    <tr>\n      <th>2</th>\n      <td>28C2DDDD415C</td>\n      <td>2017-01-01</td>\n      <td>08:03:09</td>\n      <td>21.000</td>\n      <td>0.000</td>\n      <td>0.000</td>\n      <td>24.120</td>\n      <td>83.000</td>\n      <td>23.741</td>\n      <td>120.755</td>\n    </tr>\n    <tr>\n      <th>3</th>\n      <td>28C2DDDD415C</td>\n      <td>2017-01-01</td>\n      <td>08:09:04</td>\n      <td>20.000</td>\n      <td>0.000</td>\n      <td>0.000</td>\n      <td>24.120</td>\n      <td>82.000</td>\n      <td>23.741</td>\n      <td>120.755</td>\n    </tr>\n    <tr>\n      <th>4</th>\n      <td>28C2DDDD415C</td>\n      <td>2017-01-01</td>\n      <td>08:09:04</td>\n      <td>20.000</td>\n      <td>0.000</td>\n      <td>0.000</td>\n      <td>24.120</td>\n      <td>82.000</td>\n      <td>23.741</td>\n      <td>120.755</td>\n    </tr>\n  </tbody>\n</table>\n</div>",
            "text/plain": "      device_id        Date      Time  PM2.5  PM10   PM1  Temperature  \\\n0  28C2DDDD415C  2017-01-01  08:03:09 21.000 0.000 0.000       24.120   \n1  28C2DDDD415C  2017-01-01  08:03:09 21.000 0.000 0.000       24.120   \n2  28C2DDDD415C  2017-01-01  08:03:09 21.000 0.000 0.000       24.120   \n3  28C2DDDD415C  2017-01-01  08:09:04 20.000 0.000 0.000       24.120   \n4  28C2DDDD415C  2017-01-01  08:09:04 20.000 0.000 0.000       24.120   \n\n   Humidity    lat     lon  \n0    83.000 23.741 120.755  \n1    83.000 23.741 120.755  \n2    83.000 23.741 120.755  \n3    82.000 23.741 120.755  \n4    82.000 23.741 120.755  "
          },
          "execution_count": 4,
          "metadata": {},
          "output_type": "execute_result"
        }
      ]
    },
    {
      "metadata": {
        "trusted": false
      },
      "cell_type": "code",
      "source": "train_read.dtypes",
      "execution_count": 5,
      "outputs": [
        {
          "data": {
            "text/plain": "device_id       object\nDate            object\nTime            object\nPM2.5          float64\nPM10           float64\nPM1            float64\nTemperature    float64\nHumidity       float64\nlat            float64\nlon            float64\ndtype: object"
          },
          "execution_count": 5,
          "metadata": {},
          "output_type": "execute_result"
        }
      ]
    },
    {
      "metadata": {
        "trusted": false
      },
      "cell_type": "code",
      "source": "test_read.head(5)",
      "execution_count": 6,
      "outputs": [
        {
          "data": {
            "text/html": "<div>\n<style scoped>\n    .dataframe tbody tr th:only-of-type {\n        vertical-align: middle;\n    }\n\n    .dataframe tbody tr th {\n        vertical-align: top;\n    }\n\n    .dataframe thead th {\n        text-align: right;\n    }\n</style>\n<table border=\"1\" class=\"dataframe\">\n  <thead>\n    <tr style=\"text-align: right;\">\n      <th></th>\n      <th>device_id</th>\n      <th>Date</th>\n      <th>Time</th>\n      <th>PM10</th>\n      <th>PM1</th>\n      <th>Temperature</th>\n      <th>Humidity</th>\n      <th>lat</th>\n      <th>lon</th>\n    </tr>\n  </thead>\n  <tbody>\n    <tr>\n      <th>0</th>\n      <td>28C2DDDD415C</td>\n      <td>2017-01-31</td>\n      <td>00:04:05</td>\n      <td>0.000</td>\n      <td>0.000</td>\n      <td>18.620</td>\n      <td>92.000</td>\n      <td>23.741</td>\n      <td>120.755</td>\n    </tr>\n    <tr>\n      <th>1</th>\n      <td>28C2DDDD415C</td>\n      <td>2017-01-31</td>\n      <td>00:10:01</td>\n      <td>0.000</td>\n      <td>0.000</td>\n      <td>18.750</td>\n      <td>92.000</td>\n      <td>23.741</td>\n      <td>120.755</td>\n    </tr>\n    <tr>\n      <th>2</th>\n      <td>28C2DDDD415C</td>\n      <td>2017-01-31</td>\n      <td>00:15:57</td>\n      <td>0.000</td>\n      <td>0.000</td>\n      <td>18.620</td>\n      <td>92.000</td>\n      <td>23.741</td>\n      <td>120.755</td>\n    </tr>\n    <tr>\n      <th>3</th>\n      <td>28C2DDDD415C</td>\n      <td>2017-01-31</td>\n      <td>00:21:53</td>\n      <td>0.000</td>\n      <td>0.000</td>\n      <td>18.620</td>\n      <td>92.000</td>\n      <td>23.741</td>\n      <td>120.755</td>\n    </tr>\n    <tr>\n      <th>4</th>\n      <td>28C2DDDD415C</td>\n      <td>2017-01-31</td>\n      <td>00:27:48</td>\n      <td>0.000</td>\n      <td>0.000</td>\n      <td>18.620</td>\n      <td>92.000</td>\n      <td>23.741</td>\n      <td>120.755</td>\n    </tr>\n  </tbody>\n</table>\n</div>",
            "text/plain": "      device_id        Date      Time  PM10   PM1  Temperature  Humidity  \\\n0  28C2DDDD415C  2017-01-31  00:04:05 0.000 0.000       18.620    92.000   \n1  28C2DDDD415C  2017-01-31  00:10:01 0.000 0.000       18.750    92.000   \n2  28C2DDDD415C  2017-01-31  00:15:57 0.000 0.000       18.620    92.000   \n3  28C2DDDD415C  2017-01-31  00:21:53 0.000 0.000       18.620    92.000   \n4  28C2DDDD415C  2017-01-31  00:27:48 0.000 0.000       18.620    92.000   \n\n     lat     lon  \n0 23.741 120.755  \n1 23.741 120.755  \n2 23.741 120.755  \n3 23.741 120.755  \n4 23.741 120.755  "
          },
          "execution_count": 6,
          "metadata": {},
          "output_type": "execute_result"
        }
      ]
    },
    {
      "metadata": {
        "trusted": false
      },
      "cell_type": "code",
      "source": "#Correlation map to see how features are correlated with SalePrice\ncorrmat = train_read.corr()\nplt.subplots(figsize=(5,5))\nsns.heatmap(corrmat, vmax=0.9, square=True)",
      "execution_count": 7,
      "outputs": [
        {
          "data": {
            "text/plain": "<matplotlib.axes._subplots.AxesSubplot at 0x7f5010844518>"
          },
          "execution_count": 7,
          "metadata": {},
          "output_type": "execute_result"
        },
        {
          "data": {
            "image/png": "[encoded data removed]",
            "text/plain": "<Figure size 360x360 with 2 Axes>"
          },
          "metadata": {
            "needs_background": "light"
          },
          "output_type": "display_data"
        }
      ]
    },
    {
      "metadata": {
        "trusted": false
      },
      "cell_type": "code",
      "source": "train_read.columns",
      "execution_count": 8,
      "outputs": [
        {
          "data": {
            "text/plain": "Index(['device_id', 'Date', 'Time', 'PM2.5', 'PM10', 'PM1', 'Temperature',\n       'Humidity', 'lat', 'lon'],\n      dtype='object')"
          },
          "execution_count": 8,
          "metadata": {},
          "output_type": "execute_result"
        }
      ]
    },
    {
      "metadata": {
        "trusted": false
      },
      "cell_type": "code",
      "source": "train = train_read[['PM10', 'PM1', 'Temperature', 'Humidity', 'lat', 'lon']]\n\ntest = train_read[['PM2.5']]",
      "execution_count": 9,
      "outputs": []
    },
    {
      "metadata": {
        "trusted": false
      },
      "cell_type": "code",
      "source": "train.head(5)",
      "execution_count": 10,
      "outputs": [
        {
          "data": {
            "text/html": "<div>\n<style scoped>\n    .dataframe tbody tr th:only-of-type {\n        vertical-align: middle;\n    }\n\n    .dataframe tbody tr th {\n        vertical-align: top;\n    }\n\n    .dataframe thead th {\n        text-align: right;\n    }\n</style>\n<table border=\"1\" class=\"dataframe\">\n  <thead>\n    <tr style=\"text-align: right;\">\n      <th></th>\n      <th>PM10</th>\n      <th>PM1</th>\n      <th>Temperature</th>\n      <th>Humidity</th>\n      <th>lat</th>\n      <th>lon</th>\n    </tr>\n  </thead>\n  <tbody>\n    <tr>\n      <th>0</th>\n      <td>0.000</td>\n      <td>0.000</td>\n      <td>24.120</td>\n      <td>83.000</td>\n      <td>23.741</td>\n      <td>120.755</td>\n    </tr>\n    <tr>\n      <th>1</th>\n      <td>0.000</td>\n      <td>0.000</td>\n      <td>24.120</td>\n      <td>83.000</td>\n      <td>23.741</td>\n      <td>120.755</td>\n    </tr>\n    <tr>\n      <th>2</th>\n      <td>0.000</td>\n      <td>0.000</td>\n      <td>24.120</td>\n      <td>83.000</td>\n      <td>23.741</td>\n      <td>120.755</td>\n    </tr>\n    <tr>\n      <th>3</th>\n      <td>0.000</td>\n      <td>0.000</td>\n      <td>24.120</td>\n      <td>82.000</td>\n      <td>23.741</td>\n      <td>120.755</td>\n    </tr>\n    <tr>\n      <th>4</th>\n      <td>0.000</td>\n      <td>0.000</td>\n      <td>24.120</td>\n      <td>82.000</td>\n      <td>23.741</td>\n      <td>120.755</td>\n    </tr>\n  </tbody>\n</table>\n</div>",
            "text/plain": "   PM10   PM1  Temperature  Humidity    lat     lon\n0 0.000 0.000       24.120    83.000 23.741 120.755\n1 0.000 0.000       24.120    83.000 23.741 120.755\n2 0.000 0.000       24.120    83.000 23.741 120.755\n3 0.000 0.000       24.120    82.000 23.741 120.755\n4 0.000 0.000       24.120    82.000 23.741 120.755"
          },
          "execution_count": 10,
          "metadata": {},
          "output_type": "execute_result"
        }
      ]
    },
    {
      "metadata": {
        "trusted": false
      },
      "cell_type": "code",
      "source": "test.head(5)",
      "execution_count": 11,
      "outputs": [
        {
          "data": {
            "text/html": "<div>\n<style scoped>\n    .dataframe tbody tr th:only-of-type {\n        vertical-align: middle;\n    }\n\n    .dataframe tbody tr th {\n        vertical-align: top;\n    }\n\n    .dataframe thead th {\n        text-align: right;\n    }\n</style>\n<table border=\"1\" class=\"dataframe\">\n  <thead>\n    <tr style=\"text-align: right;\">\n      <th></th>\n      <th>PM2.5</th>\n    </tr>\n  </thead>\n  <tbody>\n    <tr>\n      <th>0</th>\n      <td>21.000</td>\n    </tr>\n    <tr>\n      <th>1</th>\n      <td>21.000</td>\n    </tr>\n    <tr>\n      <th>2</th>\n      <td>21.000</td>\n    </tr>\n    <tr>\n      <th>3</th>\n      <td>20.000</td>\n    </tr>\n    <tr>\n      <th>4</th>\n      <td>20.000</td>\n    </tr>\n  </tbody>\n</table>\n</div>",
            "text/plain": "   PM2.5\n0 21.000\n1 21.000\n2 21.000\n3 20.000\n4 20.000"
          },
          "execution_count": 11,
          "metadata": {},
          "output_type": "execute_result"
        }
      ]
    },
    {
      "metadata": {},
      "cell_type": "markdown",
      "source": "# Droup out all data of PM10 and PM1 == 0"
    },
    {
      "metadata": {
        "trusted": false
      },
      "cell_type": "code",
      "source": "y_train_half=test.drop(train.loc[train['PM1'] == 0].index)\nx_train_half=train.drop(train.loc[train['PM1'] == 0].index)\ny_train=y_train_half.drop(x_train_half.loc[x_train_half['PM10'] == 0].index)\nx_train=x_train_half.drop(x_train_half.loc[x_train_half['PM10'] == 0].index)",
      "execution_count": 12,
      "outputs": []
    },
    {
      "metadata": {
        "trusted": false
      },
      "cell_type": "code",
      "source": "x_train[x_train_half['PM10'] == 0]",
      "execution_count": 13,
      "outputs": [
        {
          "data": {
            "text/html": "<div>\n<style scoped>\n    .dataframe tbody tr th:only-of-type {\n        vertical-align: middle;\n    }\n\n    .dataframe tbody tr th {\n        vertical-align: top;\n    }\n\n    .dataframe thead th {\n        text-align: right;\n    }\n</style>\n<table border=\"1\" class=\"dataframe\">\n  <thead>\n    <tr style=\"text-align: right;\">\n      <th></th>\n      <th>PM10</th>\n      <th>PM1</th>\n      <th>Temperature</th>\n      <th>Humidity</th>\n      <th>lat</th>\n      <th>lon</th>\n    </tr>\n  </thead>\n  <tbody>\n  </tbody>\n</table>\n</div>",
            "text/plain": "Empty DataFrame\nColumns: [PM10, PM1, Temperature, Humidity, lat, lon]\nIndex: []"
          },
          "execution_count": 13,
          "metadata": {},
          "output_type": "execute_result"
        }
      ]
    },
    {
      "metadata": {
        "trusted": false
      },
      "cell_type": "code",
      "source": "x_train[x_train_half['PM1'] == 0]",
      "execution_count": 14,
      "outputs": [
        {
          "data": {
            "text/html": "<div>\n<style scoped>\n    .dataframe tbody tr th:only-of-type {\n        vertical-align: middle;\n    }\n\n    .dataframe tbody tr th {\n        vertical-align: top;\n    }\n\n    .dataframe thead th {\n        text-align: right;\n    }\n</style>\n<table border=\"1\" class=\"dataframe\">\n  <thead>\n    <tr style=\"text-align: right;\">\n      <th></th>\n      <th>PM10</th>\n      <th>PM1</th>\n      <th>Temperature</th>\n      <th>Humidity</th>\n      <th>lat</th>\n      <th>lon</th>\n    </tr>\n  </thead>\n  <tbody>\n  </tbody>\n</table>\n</div>",
            "text/plain": "Empty DataFrame\nColumns: [PM10, PM1, Temperature, Humidity, lat, lon]\nIndex: []"
          },
          "execution_count": 14,
          "metadata": {},
          "output_type": "execute_result"
        }
      ]
    },
    {
      "metadata": {
        "trusted": false
      },
      "cell_type": "code",
      "source": "from sklearn.model_selection import train_test_split\n\nX_train, X_test, Y_train, Y_test = train_test_split(x_train, y_train, test_size=0.005, random_state=2)",
      "execution_count": 15,
      "outputs": []
    },
    {
      "metadata": {
        "trusted": false
      },
      "cell_type": "code",
      "source": "print(X_train.head())\nprint(Y_train.head())\nprint(X_test.head())\nprint(Y_test.head())",
      "execution_count": 16,
      "outputs": [
        {
          "name": "stdout",
          "output_type": "stream",
          "text": "          PM10    PM1  Temperature  Humidity    lat     lon\n928101  29.000 19.000       19.250    64.000 24.180 120.666\n1045175 69.000 36.000       16.620    97.000 24.308 120.708\n139503  36.000 23.000       23.250    65.000 24.254 120.720\n74901   59.000 32.000       26.620    59.000 24.135 120.657\n1009777 21.000 12.000       19.000    76.000 24.309 120.942\n         PM2.5\n928101  25.000\n1045175 52.000\n139503  32.000\n74901   47.000\n1009777 18.000\n         PM10    PM1  Temperature  Humidity    lat     lon\n393765 23.000 14.000       22.620   100.000 24.345 120.588\n66169  22.000 15.000       19.000    78.000 24.184 120.602\n399747 22.000 15.000       22.120    55.000 24.325 120.750\n762897 10.000  6.000       20.250    76.000 24.261 120.715\n589169 19.000 12.000       25.000    59.000 24.083 120.752\n        PM2.5\n393765 20.000\n66169  19.000\n399747 20.000\n762897  8.000\n589169 17.000\n"
        }
      ]
    },
    {
      "metadata": {
        "trusted": false
      },
      "cell_type": "code",
      "source": "from sklearn.linear_model import ElasticNet, Lasso,  BayesianRidge, LassoLarsIC\nfrom sklearn.ensemble import RandomForestRegressor,  GradientBoostingRegressor\nfrom sklearn.kernel_ridge import KernelRidge\nfrom sklearn.pipeline import make_pipeline\nfrom sklearn.preprocessing import RobustScaler\nfrom sklearn.base import BaseEstimator, TransformerMixin, RegressorMixin, clone\nfrom sklearn.model_selection import KFold, cross_val_score, train_test_split\nfrom sklearn.metrics import mean_squared_error\nimport xgboost as xgb",
      "execution_count": 17,
      "outputs": []
    },
    {
      "metadata": {
        "trusted": false
      },
      "cell_type": "code",
      "source": "from xgboost import XGBRegressor\nfrom sklearn.model_selection import GridSearchCV\n\nmodel_xgb = XGBRegressor()\n\nestimators = 100 #pls set more than 2000 for trial\n\nparameters ={\n    'objective':['reg:linear'],\n    'learning_rate': [0.5],\n    'max_depth': [6],\n    'silent': [1],\n    'subsample': [0.7],\n    'colsample_bytree': [0.7],\n    'n_estimators': [estimators]},\n\nxgb_grid = GridSearchCV(model_xgb,\n                        parameters,\n                        cv = 4,\n                        n_jobs = 1,\n                        verbose=100)\n",
      "execution_count": 18,
      "outputs": []
    },
    {
      "metadata": {
        "trusted": false
      },
      "cell_type": "code",
      "source": "xgb_grid.fit(X_train, Y_train)",
      "execution_count": 19,
      "outputs": [
        {
          "name": "stdout",
          "output_type": "stream",
          "text": "Fitting 4 folds for each of 1 candidates, totalling 4 fits\n[CV] colsample_bytree=0.7, learning_rate=0.5, max_depth=6, n_estimators=100, objective=reg:linear, silent=1, subsample=0.7 \n[CV]  colsample_bytree=0.7, learning_rate=0.5, max_depth=6, n_estimators=100, objective=reg:linear, silent=1, subsample=0.7, score=0.9979988666587639, total=  36.2s\n[Parallel(n_jobs=1)]: Done   1 out of   1 | elapsed:   39.5s remaining:    0.0s\n[CV] colsample_bytree=0.7, learning_rate=0.5, max_depth=6, n_estimators=100, objective=reg:linear, silent=1, subsample=0.7 \n[CV]  colsample_bytree=0.7, learning_rate=0.5, max_depth=6, n_estimators=100, objective=reg:linear, silent=1, subsample=0.7, score=0.9977958658244646, total=  36.4s\n[Parallel(n_jobs=1)]: Done   2 out of   2 | elapsed:  1.3min remaining:    0.0s\n[CV] colsample_bytree=0.7, learning_rate=0.5, max_depth=6, n_estimators=100, objective=reg:linear, silent=1, subsample=0.7 \n[CV]  colsample_bytree=0.7, learning_rate=0.5, max_depth=6, n_estimators=100, objective=reg:linear, silent=1, subsample=0.7, score=0.9979932398759654, total=  35.8s\n[Parallel(n_jobs=1)]: Done   3 out of   3 | elapsed:  2.0min remaining:    0.0s\n[CV] colsample_bytree=0.7, learning_rate=0.5, max_depth=6, n_estimators=100, objective=reg:linear, silent=1, subsample=0.7 \n[CV]  colsample_bytree=0.7, learning_rate=0.5, max_depth=6, n_estimators=100, objective=reg:linear, silent=1, subsample=0.7, score=0.9976240102002828, total=  35.7s\n[Parallel(n_jobs=1)]: Done   4 out of   4 | elapsed:  2.6min remaining:    0.0s\n[Parallel(n_jobs=1)]: Done   4 out of   4 | elapsed:  2.6min finished\n"
        },
        {
          "data": {
            "text/plain": "GridSearchCV(cv=4, error_score='raise',\n       estimator=XGBRegressor(base_score=0.5, booster='gbtree', colsample_bylevel=1,\n       colsample_bytree=1, gamma=0, learning_rate=0.1, max_delta_step=0,\n       max_depth=3, min_child_weight=1, missing=None, n_estimators=100,\n       n_jobs=1, nthread=None, objective='reg:linear', random_state=0,\n       reg_alpha=0, reg_lambda=1, scale_pos_weight=1, seed=None,\n       silent=True, subsample=1),\n       fit_params=None, iid=True, n_jobs=1,\n       param_grid=({'objective': ['reg:linear'], 'learning_rate': [0.5], 'max_depth': [6], 'silent': [1], 'subsample': [0.7], 'colsample_bytree': [0.7], 'n_estimators': [100]},),\n       pre_dispatch='2*n_jobs', refit=True, return_train_score='warn',\n       scoring=None, verbose=100)"
          },
          "execution_count": 19,
          "metadata": {},
          "output_type": "execute_result"
        }
      ]
    },
    {
      "metadata": {
        "trusted": false
      },
      "cell_type": "code",
      "source": "test_df=pd.read_csv('input/test.csv')\nprint(test_df.head(5))\nlength=len(test_df.loc[test_df['device_id']=='28C2DDDD415C'])+\\\n       len(test_df.loc[test_df['device_id']=='28C2DDDD47BC'])\n\ntest_df['PM10'][0:length]=test_df['PM10'][length:length*2]\ntest_df['PM1'][0:length]=test_df['PM1'][length:length*2]\n\npredit_data = test_df[['PM10', 'PM1', 'Temperature', 'Humidity',  \n        'lat', 'lon']]\n",
      "execution_count": 20,
      "outputs": [
        {
          "name": "stdout",
          "output_type": "stream",
          "text": "      device_id        Date      Time  PM10   PM1  Temperature  Humidity  \\\n0  28C2DDDD415C  2017-01-31  00:04:05 0.000 0.000       18.620    92.000   \n1  28C2DDDD415C  2017-01-31  00:10:01 0.000 0.000       18.750    92.000   \n2  28C2DDDD415C  2017-01-31  00:15:57 0.000 0.000       18.620    92.000   \n3  28C2DDDD415C  2017-01-31  00:21:53 0.000 0.000       18.620    92.000   \n4  28C2DDDD415C  2017-01-31  00:27:48 0.000 0.000       18.620    92.000   \n\n     lat     lon  \n0 23.741 120.755  \n1 23.741 120.755  \n2 23.741 120.755  \n3 23.741 120.755  \n4 23.741 120.755  \n"
        }
      ]
    },
    {
      "metadata": {
        "trusted": false
      },
      "cell_type": "code",
      "source": "print(test_df.head(5))",
      "execution_count": 21,
      "outputs": [
        {
          "name": "stdout",
          "output_type": "stream",
          "text": "      device_id        Date      Time   PM10    PM1  Temperature  Humidity  \\\n0  28C2DDDD415C  2017-01-31  00:04:05 21.000 13.000       18.620    92.000   \n1  28C2DDDD415C  2017-01-31  00:10:01 21.000 14.000       18.750    92.000   \n2  28C2DDDD415C  2017-01-31  00:15:57 21.000 14.000       18.620    92.000   \n3  28C2DDDD415C  2017-01-31  00:21:53 21.000 14.000       18.620    92.000   \n4  28C2DDDD415C  2017-01-31  00:27:48 22.000 14.000       18.620    92.000   \n\n     lat     lon  \n0 23.741 120.755  \n1 23.741 120.755  \n2 23.741 120.755  \n3 23.741 120.755  \n4 23.741 120.755  \n"
        }
      ]
    },
    {
      "metadata": {
        "trusted": false
      },
      "cell_type": "code",
      "source": "pred = xgb_grid.predict(predit_data)\ndf = pd.DataFrame(pred)\ndf = df.groupby(test_df['device_id'], as_index=True).mean()\ntestdatasheet=pd.read_csv( 'input/submission.csv')\n\n\ntestdatasheet['pred_pm25'] = np.array(df)\ntestdatasheet.to_csv('input/submission.csv', index=False)",
      "execution_count": 22,
      "outputs": []
    },
    {
      "metadata": {
        "trusted": false
      },
      "cell_type": "code",
      "source": "",
      "execution_count": null,
      "outputs": []
    }
  ],
  "metadata": {
    "kernelspec": {
      "name": "python3",
      "display_name": "Python 3",
      "language": "python"
    },
    "language_info": {
      "mimetype": "text/x-python",
      "nbconvert_exporter": "python",
      "name": "python",
      "file_extension": ".py",
      "version": "3.5.4",
      "pygments_lexer": "ipython3",
      "codemirror_mode": {
        "version": 3,
        "name": "ipython"
      }
    }
  },
  "nbformat": 4,
  "nbformat_minor": 2
}