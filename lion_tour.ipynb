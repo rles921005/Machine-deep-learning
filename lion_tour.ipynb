{
 "cells": [
  {
   "cell_type": "code",
   "execution_count": 1,
   "metadata": {},
   "outputs": [],
   "source": [
    "import pandas as pd\n",
    "from sklearn.model_selection import train_test_split\n",
    "from sklearn.ensemble import RandomForestClassifier\n",
    "from sklearn.metrics import confusion_matrix\n",
    "from sklearn.metrics import roc_curve\n",
    "from sklearn.metrics import mean_absolute_error as MAE\n",
    "import gc\n",
    "import matplotlib\n",
    "import matplotlib.pyplot as plt\n",
    "from IPython.display import display, HTML\n",
    "import seaborn as sns\n",
    "\n",
    "%matplotlib inline\n",
    "sns.set()"
   ]
  },
  {
   "cell_type": "code",
   "execution_count": 2,
   "metadata": {},
   "outputs": [],
   "source": [
    "# load dataset\n",
    "\n",
    "df_order = pd.read_csv(\"dataset/order.csv\")\n",
    "df_group = pd.read_csv(\"dataset/group.csv\")\n",
    "df_airline = pd.read_csv(\"dataset/airline.csv\")\n",
    "df_day_schedule = pd.read_csv(\"dataset/day_schedule.csv\")\n",
    "df_train = pd.read_csv(\"dataset/training-set.csv\")\n",
    "df_test = pd.read_csv(\"dataset/testing-set.csv\")"
   ]
  },
  {
   "cell_type": "code",
   "execution_count": 3,
   "metadata": {},
   "outputs": [],
   "source": [
    "# date Conversion\n",
    "\n",
    "month = {'Jan': '01', 'Feb': '02' , 'Mar':'03' ,'Apr': '04',\n",
    "'May': '05', 'Jun': '06' , 'Jul': '07' , 'Aug':'08',\n",
    "'Sep':'09', 'Oct':'10' , 'Nov':'11', 'Dec':'12' }\n",
    "\n",
    "def Convert_Date(x):\n",
    "    Year='20'+x[-2:]\n",
    "    Month=month[x[-6:-3]]\n",
    "    Day=x[:-7]\n",
    "    return pd.to_datetime(Year+'-'+Month+'-'+Day)\n"
   ]
  },
  {
   "cell_type": "code",
   "execution_count": 4,
   "metadata": {},
   "outputs": [],
   "source": [
    "# group data\n",
    "\n",
    "df_group['Begin_Date']=df_group.begin_date.apply(lambda x: Convert_Date(x))\n",
    "df_group['SubLine']= df_group.sub_line.apply(lambda x: int(x[14:]))\n",
    "df_group['Area']= df_group.area.apply(lambda x: int(x[11:]))\n",
    "group_used_cols=['group_id','Begin_Date','days','Area','SubLine','price']\n",
    "df_order_1 = df_order.merge(df_group[group_used_cols], on='group_id')\n"
   ]
  },
  {
   "cell_type": "code",
   "execution_count": 5,
   "metadata": {},
   "outputs": [],
   "source": [
    "# for order data\n",
    "\n",
    "df_order_1['Order_Date']=df_order_1.order_date.apply(lambda x: Convert_Date(x))\n",
    "df_order_1['Source_1']= df_order_1.source_1.apply(lambda x: int(x[11:]))\n",
    "df_order_1['Source_2']= df_order_1.source_2.apply(lambda x: int(x[11:]))\n",
    "df_order_1['Unit']= df_order_1.unit.apply(lambda x: int(x[11:]))\n",
    "df_order_1['Begin_Date']=pd.to_datetime(df_order_1['Begin_Date'])\n",
    "df_order_1['Order_Date']=pd.to_datetime(df_order_1['Order_Date'])\n",
    "df_order_1['PreDays']=(df_order_1['Begin_Date']-df_order_1['Order_Date']).dt.days\n",
    "df_order_1['Begin_Date_Weekday']= df_order_1['Begin_Date'].dt.dayofweek\n",
    "df_order_1['Order_Date_Weekday']= df_order_1['Order_Date'].dt.dayofweek\n",
    "df_order_1['Return_Date_Weekday']= (df_order_1['Begin_Date'].dt.dayofweek+df_order_1['days'])%7\n",
    "\n",
    "order_used_columns=['order_id', 'group_id','Order_Date', 'Source_1', 'Source_2', 'Unit',\n",
    "'people_amount', 'Begin_Date', 'days', 'Area', 'SubLine', 'price',\n",
    "'PreDays','Begin_Date_Weekday', 'Order_Date_Weekday', 'Return_Date_Weekday']\n",
    "\n",
    "df_order_2=df_order_1[order_used_columns]"
   ]
  },
  {
   "cell_type": "code",
   "execution_count": 6,
   "metadata": {},
   "outputs": [],
   "source": [
    "# train/test data\n",
    "\n",
    "df_train_1=df_train.merge(df_order_2,on='order_id')\n",
    "df_test_1=df_test.merge(df_order_2,on='order_id')"
   ]
  },
  {
   "cell_type": "code",
   "execution_count": 7,
   "metadata": {},
   "outputs": [],
   "source": [
    "# First predict by lightgbm and by cv\n",
    "\n",
    "import lightgbm as lgb\n",
    "from lightgbm import LGBMClassifier\n",
    "from sklearn.model_selection import KFold, StratifiedKFold\n",
    "from sklearn.metrics import roc_auc_score, roc_curve\n",
    "import numpy as np\n",
    "import gc\n"
   ]
  },
  {
   "cell_type": "code",
   "execution_count": null,
   "metadata": {},
   "outputs": [],
   "source": [
    "used_features=['deal_or_not', 'order_id', 'group_id', 'Order_Date', 'Source_1',\n",
    "'Source_2', 'Unit', 'people_amount', 'Begin_Date', 'days', 'Area',\n",
    "'SubLine', 'price', 'PreDays', 'Begin_Date_Weekday',\n",
    "'Order_Date_Weekday', 'Return_Date_Weekday']\n",
    "\n",
    "folds = StratifiedKFold(n_splits= 10, shuffle=True, random_state=666)\n",
    "\n",
    "# Create arrays and dataframes to store results\n",
    "oof_preds = np.zeros(df_train_1.shape[0])\n",
    "sub_preds = np.zeros(df_test_1.shape[0])\n",
    "feature_importance_df = pd.DataFrame()\n",
    "\n",
    "feats = [f for f in df_train_1.columns if f not in ['order_id','deal_or_not','group_id','Order_Date','Begin_Date']]\n",
    "\n",
    "print ('feats:' + str(len(feats)))\n",
    "\n",
    "for n_fold, (train_idx, valid_idx) in enumerate(folds.split(df_train_1[feats], df_train_1['deal_or_not'])):\n",
    "    train_x, train_y = df_train_1[feats].iloc[train_idx], df_train_1['deal_or_not'].iloc[train_idx]\n",
    "    valid_x, valid_y = df_train_1[feats].iloc[valid_idx], df_train_1['deal_or_not'].iloc[valid_idx]\n",
    "\n",
    "print(\"Train Index:\",train_idx,\",Val Index:\",valid_idx)"
   ]
  },
  {
   "cell_type": "code",
   "execution_count": null,
   "metadata": {},
   "outputs": [],
   "source": [
    "params = {\n",
    "'nthread': 32,\n",
    "'boosting_type': 'dart',\n",
    "'objective': 'binary',\n",
    "'metric': 'auc',\n",
    "'learning_rate': 0.01,\n",
    "'num_leaves': 70,\n",
    "'max_depth': 9,\n",
    "'subsample': 1,\n",
    "'feature_fraction': 0.9,\n",
    "'colsample_bytree': 0.08,\n",
    "'min_split_gain': 0.09,\n",
    "'min_child_weight': 9.5,\n",
    "#'reg_alpha': 1,\n",
    "#'reg_lambda': 50,\n",
    "'verbose': 1,\n",
    "# parameters for dart\n",
    "'drop_rate':0.7,\n",
    "'skip_drop':0.7,\n",
    "'max_drop':5,\n",
    "'uniform_drop':False,\n",
    "'xgboost_dart_mode':True,\n",
    "'drop_seed':4\n",
    "}"
   ]
  },
  {
   "cell_type": "code",
   "execution_count": null,
   "metadata": {},
   "outputs": [],
   "source": [
    "if n_fold >= 0:\n",
    "    dtrain = lgb.Dataset(train_x, label=train_y)\n",
    "    dval = lgb.Dataset(valid_x, label=valid_y, reference=dtrain)\n",
    "\n",
    "    bst = lgb.train(\n",
    "    params, dtrain, num_boost_round=10000,\n",
    "    valid_sets=[dval], early_stopping_rounds=300, verbose_eval=100)"
   ]
  },
  {
   "cell_type": "code",
   "execution_count": 12,
   "metadata": {},
   "outputs": [
    {
     "name": "stdout",
     "output_type": "stream",
     "text": [
      "Fold 10 AUC : 0.679108\n"
     ]
    },
    {
     "data": {
      "text/plain": [
       "2506"
      ]
     },
     "execution_count": 12,
     "metadata": {},
     "output_type": "execute_result"
    }
   ],
   "source": [
    "\n",
    "tmp_valid = bst.predict(valid_x, num_iteration=bst.best_iteration)\n",
    "\n",
    "tmp_valid.dump('input/kfold_valid_' + str(n_fold) + '.pkl')\n",
    "\n",
    "oof_preds[valid_idx] = bst.predict(valid_x, num_iteration=bst.best_iteration)\n",
    "\n",
    "tmp = bst.predict(df_test_1[feats], num_iteration=bst.best_iteration)\n",
    "\n",
    "tmp.dump('input/kfold_' + str(n_fold) + '.pkl')\n",
    "\n",
    "sub_preds += bst.predict(df_test_1[feats], num_iteration=bst.best_iteration) / folds.n_splits\n",
    "\n",
    "# Make the feature importance dataframe\n",
    "\n",
    "gain = bst.feature_importance('gain')\n",
    "\n",
    "fold_importance_df = pd.DataFrame({'feature':bst.feature_name(),\n",
    "'split':bst.feature_importance('split'),\n",
    "'gain':100*gain/gain.sum(),\n",
    "'fold':n_fold,\n",
    "}).sort_values('gain',ascending=False)\n",
    "\n",
    "feature_importance_df = pd.concat([feature_importance_df, fold_importance_df], axis=0)\n",
    "\n",
    "print('Fold %2d AUC : %.6f' % (n_fold + 1, roc_auc_score(valid_y, oof_preds[valid_idx])))\n",
    "\n",
    "del bst, train_x, train_y, valid_x, valid_y\n",
    "\n",
    "gc.collect()\n"
   ]
  },
  {
   "cell_type": "code",
   "execution_count": 15,
   "metadata": {},
   "outputs": [],
   "source": [
    "app_test = pd.read_csv('dataset/testing-set.csv', usecols=['order_id'])\n",
    "app_train = pd.read_csv(\"dataset/training-set.csv\")\n",
    "\n",
    "preds = pd.DataFrame({\"order_id\":app_test[\"order_id\"], \"deal_or_not\":sub_preds})\n",
    "\n",
    "# create output sub-folder\n",
    "\n",
    "preds.to_csv(\"output/lgb_dart_\" + str(roc_auc_score(app_train['deal_or_not'], oof_preds)) + \".csv\", index=False)"
   ]
  },
  {
   "cell_type": "code",
   "execution_count": null,
   "metadata": {},
   "outputs": [],
   "source": []
  }
 ],
 "metadata": {
  "kernelspec": {
   "display_name": "Python 3",
   "language": "python",
   "name": "python3"
  },
  "language_info": {
   "codemirror_mode": {
    "name": "ipython",
    "version": 3
   },
   "file_extension": ".py",
   "mimetype": "text/x-python",
   "name": "python",
   "nbconvert_exporter": "python",
   "pygments_lexer": "ipython3",
   "version": "3.5.5"
  }
 },
 "nbformat": 4,
 "nbformat_minor": 2
}
